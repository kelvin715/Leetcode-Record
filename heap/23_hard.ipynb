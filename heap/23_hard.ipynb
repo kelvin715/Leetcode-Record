{
 "cells": [
  {
   "cell_type": "code",
   "execution_count": 13,
   "metadata": {},
   "outputs": [
    {
     "data": {
      "text/plain": [
       "'优先队列 pq 中的元素个数最多是 k，所以一次 poll 或者 add 方法的时间复杂度是 O(logk)；所有的链表节点都会被加入和弹出 pq，所以算法整体的时间复杂度是 O(Nlogk)，其中 k 是链表的条数，N 是这些链表的节点总数'"
      ]
     },
     "execution_count": 13,
     "metadata": {},
     "output_type": "execute_result"
    }
   ],
   "source": [
    "# Definition for singly-linked list.\n",
    "class ListNode:\n",
    "    def __init__(self, val=0, next=None):\n",
    "        self.val = val\n",
    "        self.next = next\n",
    "from typing import List, Optional\n",
    "import heapq\n",
    "\n",
    "# This code snippet defines the less than (__lt__) method for the ListNode class instances based on the val attribute of the instances.\n",
    "ListNode.__lt__= lambda self, other: self.val < other.val\n",
    "ListNode.__eq__ = lambda set, other: set.val == other.val\n",
    "\n",
    "class Solution:\n",
    "    def mergeKLists(self, lists: List[Optional[ListNode]]) -> Optional[ListNode]:\n",
    "        #不应该把所有node单独放到queue，只需要把整条链放进去即可,因为这里的链表是非递减的，所以只需要头部的结点大小\n",
    "        pq = []\n",
    "        for head in lists:\n",
    "            if head:\n",
    "                heapq.heappush(pq, (head.val, head))\n",
    "        \n",
    "        dummy = ListNode()\n",
    "        p = dummy\n",
    "        while pq:\n",
    "            val, node = heapq.heappop(pq)\n",
    "            dummy.next = node\n",
    "            dummy = dummy.next\n",
    "            if node.next:\n",
    "                heapq.heappush(pq, (node.next.val, node.next))\n",
    "\n",
    "        return p.next\n",
    "                \n",
    "'''优先队列 pq 中的元素个数最多是 k，所以一次 poll 或者 add 方法的时间复杂度是 O(logk)；\n",
    "所有的链表节点都会被加入和弹出 pq，所以算法整体的时间复杂度是 O(Nlogk)，其中 k 是链表的条数，N 是这些链表的节点总数'''"
   ]
  },
  {
   "cell_type": "code",
   "execution_count": 11,
   "metadata": {},
   "outputs": [
    {
     "data": {
      "text/plain": [
       "True"
      ]
     },
     "execution_count": 11,
     "metadata": {},
     "output_type": "execute_result"
    }
   ],
   "source": [
    "list1 = ListNode(1, None)\n",
    "list2 = ListNode(1, None)\n",
    "list3 = ListNode(2, None)\n",
    "lists = [list1, list2, list3]\n",
    "\n",
    "list1 == list2\n"
   ]
  },
  {
   "cell_type": "markdown",
   "metadata": {},
   "source": [
    "如果不定义大小比较的方法，都会返回False"
   ]
  },
  {
   "cell_type": "code",
   "execution_count": 12,
   "metadata": {},
   "outputs": [],
   "source": [
    "class ListNode:\n",
    "    def __init__(self, val=0, next=None):\n",
    "        self.val = val\n",
    "        self.next = next\n",
    "    \n",
    "    # 在类定义中直接实现 __lt__ 方法\n",
    "    def __lt__(self, other):\n",
    "        return self.val < other.val\n"
   ]
  },
  {
   "cell_type": "markdown",
   "metadata": {},
   "source": [
    "您的写法是在类定义之外通过修改类的属性来添加方法。这种做法在Python中是可行的，因为Python允许在运行时动态地修改类的属性和方法。这可以在某些情况下提供灵活性，比如当你想要在不修改原始类定义的情况下为类添加额外的功能。"
   ]
  },
  {
   "cell_type": "code",
   "execution_count": null,
   "metadata": {},
   "outputs": [],
   "source": []
  }
 ],
 "metadata": {
  "kernelspec": {
   "display_name": "pytorch",
   "language": "python",
   "name": "python3"
  },
  "language_info": {
   "codemirror_mode": {
    "name": "ipython",
    "version": 3
   },
   "file_extension": ".py",
   "mimetype": "text/x-python",
   "name": "python",
   "nbconvert_exporter": "python",
   "pygments_lexer": "ipython3",
   "version": "3.9.12"
  }
 },
 "nbformat": 4,
 "nbformat_minor": 2
}
