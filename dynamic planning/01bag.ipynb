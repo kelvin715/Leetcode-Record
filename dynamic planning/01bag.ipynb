{
 "cells": [
  {
   "cell_type": "markdown",
   "metadata": {},
   "source": [
    "dp[weight][status] = max_value\n",
    "\n",
    "1. from top to bottom\n",
    "for i in items:\n",
    "    tmp = dp[curr-i.weight][status.exclude(i)]+i.value\n",
    "2. from bottom to top\n",
    "\n",
    "\n"
   ]
  }
 ],
 "metadata": {
  "kernelspec": {
   "display_name": "pytorch",
   "language": "python",
   "name": "python3"
  },
  "language_info": {
   "name": "python",
   "version": "3.9.12"
  }
 },
 "nbformat": 4,
 "nbformat_minor": 2
}
