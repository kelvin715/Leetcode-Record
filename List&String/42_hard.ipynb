{
 "cells": [
  {
   "cell_type": "markdown",
   "metadata": {},
   "source": [
    "给定 n 个非负整数表示每个宽度为 1 的柱子的高度图，计算按此排列的柱子，下雨之后能接多少雨水。\n",
    "\n",
    " \n",
    "\n",
    "示例 1：\n",
    "\n",
    "\n",
    "\n",
    "输入：height = [0,1,0,2,1,0,1,3,2,1,2,1]\n",
    "输出：6\n",
    "解释：上面是由数组 [0,1,0,2,1,0,1,3,2,1,2,1] 表示的高度图，在这种情况下，可以接 6 个单位的雨水（蓝色部分表示雨水）。 \n",
    "示例 2：\n",
    "\n",
    "输入：height = [4,2,0,3,2,5]\n",
    "输出：9\n",
    " \n",
    "\n",
    "提示：\n",
    "\n",
    "n == height.length\n",
    "1 <= n <= 2 * 104\n",
    "0 <= height[i] <= 105"
   ]
  },
  {
   "cell_type": "markdown",
   "metadata": {},
   "source": [
    "![](https://assets.leetcode-cn.com/aliyun-lc-upload/uploads/2018/10/22/rainwatertrap.png)"
   ]
  },
  {
   "cell_type": "code",
   "execution_count": 19,
   "metadata": {},
   "outputs": [
    {
     "data": {
      "text/plain": [
       "6"
      ]
     },
     "execution_count": 19,
     "metadata": {},
     "output_type": "execute_result"
    }
   ],
   "source": [
    "class Solution:\n",
    "    def trap(self, height) -> int:\n",
    "        n=len(height)\n",
    "        rest=0\n",
    "        for i in range(1,n-1):\n",
    "            left=max(height[:i])\n",
    "            right=max(height[i+1:])\n",
    "            rest+=max(min(left,right)-height[i],0)\n",
    "        return rest\n",
    "            \n",
    "solution = Solution()\n",
    "solution.trap(list([0,1,0,2,1,0,1,3,2,1,2,1]))      "
   ]
  },
  {
   "cell_type": "code",
   "execution_count": 21,
   "metadata": {},
   "outputs": [
    {
     "data": {
      "text/plain": [
       "6"
      ]
     },
     "execution_count": 21,
     "metadata": {},
     "output_type": "execute_result"
    }
   ],
   "source": [
    "class Solution:\n",
    "    def trap(self, height) -> int:\n",
    "        # 重点是每一个点能装的水由左右最大值中的最小值决定 can[i] = min(max(height[:i], height[i+1:]))\n",
    "        n=len(height)\n",
    "        left_maxs=[0]*n\n",
    "        right_maxs=[0]*n\n",
    "        left_max = 0\n",
    "        right_max = 0\n",
    "        for i in range(n):\n",
    "            left = i\n",
    "            right = n-1-i\n",
    "            left_max = max(height[left], left_max)\n",
    "            left_maxs[left] = left_max\n",
    "            right_max = max(height[right], right_max)\n",
    "            right_maxs[right] = right_max\n",
    "        rest = 0\n",
    "        for i in range(n):\n",
    "            rest +=max(min(left_maxs[i], right_maxs[i]) - height[i],0)\n",
    "        return rest\n",
    "            \n",
    "solution = Solution()\n",
    "solution.trap(list([0,1,0,2,1,0,1,3,2,1,2,1]))    "
   ]
  },
  {
   "cell_type": "code",
   "execution_count": null,
   "metadata": {},
   "outputs": [],
   "source": []
  }
 ],
 "metadata": {
  "kernelspec": {
   "display_name": "pytorch",
   "language": "python",
   "name": "python3"
  },
  "language_info": {
   "codemirror_mode": {
    "name": "ipython",
    "version": 3
   },
   "file_extension": ".py",
   "mimetype": "text/x-python",
   "name": "python",
   "nbconvert_exporter": "python",
   "pygments_lexer": "ipython3",
   "version": "3.9.12"
  }
 },
 "nbformat": 4,
 "nbformat_minor": 2
}
