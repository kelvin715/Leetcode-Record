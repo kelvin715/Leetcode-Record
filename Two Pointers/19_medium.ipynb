{
 "cells": [
  {
   "cell_type": "markdown",
   "metadata": {},
   "source": [
    "19. 删除链表的倒数第 N 个结点\n",
    "已解答\n",
    "中等\n",
    "相关标签\n",
    "相关企业\n",
    "提示\n",
    "给你一个链表，删除链表的倒数第 n 个结点，并且返回链表的头结点。\n",
    "\n",
    " \n",
    "\n",
    "示例 1：\n",
    "\n",
    "\n",
    "输入：head = [1,2,3,4,5], n = 2\n",
    "输出：[1,2,3,5]\n",
    "示例 2：\n",
    "\n",
    "输入：head = [1], n = 1\n",
    "输出：[]\n",
    "示例 3：\n",
    "\n",
    "输入：head = [1,2], n = 1\n",
    "输出：[1]\n",
    " \n",
    "\n",
    "提示：\n",
    "\n",
    "链表中结点的数目为 sz\n",
    "1 <= sz <= 30\n",
    "0 <= Node.val <= 100\n",
    "1 <= n <= sz\n",
    " \n",
    "\n",
    "进阶：你能尝试使用一趟扫描实现吗？"
   ]
  },
  {
   "cell_type": "code",
   "execution_count": 6,
   "metadata": {},
   "outputs": [
    {
     "data": {
      "text/plain": [
       "1"
      ]
     },
     "execution_count": 6,
     "metadata": {},
     "output_type": "execute_result"
    }
   ],
   "source": [
    "# Definition for singly-linked list.\n",
    "class ListNode:\n",
    "    def __init__(self, val=0, next=None):\n",
    "        self.val = val\n",
    "        self.next = next\n",
    "from typing import Optional\n",
    "\n",
    "class Solution:\n",
    "    def removeNthFromEnd(self, head: Optional[ListNode], n: int) -> Optional[ListNode]:\n",
    "        #find the L-n th node\n",
    "        #when p reach L, q should be at L-n so p - q = n\n",
    "        a=0\n",
    "        dummy = ListNode(-1,head)\n",
    "        p=dummy\n",
    "        while a<n:\n",
    "            a+=1\n",
    "            p=p.next \n",
    "        q=dummy #p-->n q-->0\n",
    "        while p.next:\n",
    "            p=p.next\n",
    "            q=q.next\n",
    "        #p --> L, q-->L-n\n",
    "        if q and q.next:\n",
    "            q.next = q.next.next\n",
    "        return dummy.next\n",
    "\n",
    "solution = Solution()\n",
    "nodes = ListNode(1,ListNode(2,ListNode(3,ListNode(4,ListNode(5)))))\n",
    "solution.removeNthFromEnd(nodes,2).val"
   ]
  },
  {
   "cell_type": "markdown",
   "metadata": {},
   "source": [
    "妙用Dummy,这样dummy站位0,不用刻意去想n对应的index,index可以直接用第几个表示"
   ]
  },
  {
   "cell_type": "code",
   "execution_count": null,
   "metadata": {},
   "outputs": [],
   "source": [
    "# Definition for singly-linked list.\n",
    "# class ListNode:\n",
    "#     def __init__(self, val=0, next=None):\n",
    "#         self.val = val\n",
    "#         self.next = next\n",
    "class Solution:\n",
    "    def middleNode(self, head: Optional[ListNode]) -> Optional[ListNode]:\n",
    "        dummy = ListNode(-1,head)\n",
    "        #find the (L+1)/2 th node\n",
    "        p=dummy\n",
    "        q=dummy\n",
    "        while p and p.next:\n",
    "            p = p.next.next\n",
    "            q= q.next\n",
    "        \n",
    "        if p is not None: #偶数个\n",
    "            q = q.next\n",
    "        return q\n"
   ]
  },
  {
   "cell_type": "markdown",
   "metadata": {},
   "source": [
    "如果一共偶数个点，那么while循环在最后一点终止\n",
    "如果一共奇数个点，那么while循环在p为None终止\n"
   ]
  },
  {
   "cell_type": "code",
   "execution_count": null,
   "metadata": {},
   "outputs": [],
   "source": []
  }
 ],
 "metadata": {
  "kernelspec": {
   "display_name": "pytorch",
   "language": "python",
   "name": "python3"
  },
  "language_info": {
   "codemirror_mode": {
    "name": "ipython",
    "version": 3
   },
   "file_extension": ".py",
   "mimetype": "text/x-python",
   "name": "python",
   "nbconvert_exporter": "python",
   "pygments_lexer": "ipython3",
   "version": "3.9.12"
  }
 },
 "nbformat": 4,
 "nbformat_minor": 2
}
