{
 "cells": [
  {
   "cell_type": "markdown",
   "metadata": {},
   "source": [
    "62. 不同路径\n",
    "已解答\n",
    "中等\n",
    "相关标签\n",
    "相关企业\n",
    "一个机器人位于一个 m x n 网格的左上角 （起始点在下图中标记为 “Start” ）。\n",
    "\n",
    "机器人每次只能向下或者向右移动一步。机器人试图达到网格的右下角（在下图中标记为 “Finish” ）。\n",
    "\n",
    "问总共有多少条不同的路径？\n",
    "\n",
    " \n",
    "\n",
    "示例 1：\n",
    "\n",
    "![](https://pic.leetcode.cn/1697422740-adxmsI-image.png)\n",
    "\n",
    "输入：m = 3, n = 7\n",
    "输出：28\n",
    "示例 2：\n",
    "\n",
    "输入：m = 3, n = 2\n",
    "输出：3\n",
    "解释：\n",
    "从左上角开始，总共有 3 条路径可以到达右下角。\n",
    "1. 向右 -> 向下 -> 向下\n",
    "2. 向下 -> 向下 -> 向右\n",
    "3. 向下 -> 向右 -> 向下\n",
    "示例 3：\n",
    "\n",
    "输入：m = 7, n = 3\n",
    "输出：28\n",
    "示例 4：\n",
    "\n",
    "输入：m = 3, n = 3\n",
    "输出：6\n",
    " \n",
    "\n",
    "提示：\n",
    "\n",
    "1 <= m, n <= 100\n",
    "题目数据保证答案小于等于 2 * 109"
   ]
  },
  {
   "cell_type": "code",
   "execution_count": null,
   "metadata": {},
   "outputs": [],
   "source": [
    "class Solution:\n",
    "    def uniquePaths(self, m: int, n: int) -> int:\n",
    "        dp = [[0] * n]*m\n",
    "        for i in range(m):\n",
    "            dp[i][0] = 1\n",
    "        for i in range(n):\n",
    "            dp[0][i] = 1\n",
    "        for i in range(1, m):\n",
    "            for j in range(1, n):\n",
    "                dp[i][j] = dp[i][j-1] + dp[i-1][j]\n",
    "        return dp[m-1][n-1]"
   ]
  }
 ],
 "metadata": {
  "language_info": {
   "name": "python"
  }
 },
 "nbformat": 4,
 "nbformat_minor": 2
}
