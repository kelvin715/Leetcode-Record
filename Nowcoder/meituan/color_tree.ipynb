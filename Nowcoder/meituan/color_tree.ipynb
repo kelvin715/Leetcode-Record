{
 "cells": [
  {
   "cell_type": "markdown",
   "metadata": {},
   "source": [
    "3.\n",
    "小美的树上染色\n",
    "小美拿到了一棵树，每个节点有一个权值。初始每个节点都是白色。\n",
    "小美有若干次操作，每次操作可以选择两个相邻的节点，如果它们都是白色且权值的乘积是完全平方数，小美就可以把这两个节点同时染红。\n",
    "小美想知道，自己最多可以染红多少个节点？\n",
    "时间限制：C/C++ 1秒，其他语言2秒\n",
    "空间限制：C/C++ 256M，其他语言512M\n",
    "输入描述：\n",
    "第一行输入一个正整数n，代表节点的数量。\n",
    "第二行输入n个正整数a_i，代表每个节点的权值。\n",
    "接下来的n-1行，每行输入两个正整数u,v，代表节点u和节点v有一条边连接。\n",
    "1\\leq n \\leq 10^5\n",
    "1\\leq a_i \\leq 10^9\n",
    "1\\leq u,v \\leq n\n",
    "输出描述：\n",
    "输出一个整数，表示最多可以染红的节点数量。\n",
    "示例1\n",
    "输入例子：\n",
    "3\n",
    "3 3 12\n",
    "1 2\n",
    "2 3\n",
    "输出例子：\n",
    "2\n",
    "例子说明：\n",
    "可以染红第二个和第三个节点。\n",
    "请注意，此时不能再染红第一个和第二个节点，因为第二个节点已经被染红。\n",
    "因此，最多染红 2 个节点。"
   ]
  },
  {
   "cell_type": "code",
   "execution_count": 2,
   "metadata": {},
   "outputs": [
    {
     "name": "stdout",
     "output_type": "stream",
     "text": [
      "3\n"
     ]
    }
   ],
   "source": [
    "# Definition for a binary tree node.\n",
    "class TreeNode:\n",
    "    def __init__(self, val=0, left=None, right=None):\n",
    "        self.val = val\n",
    "        self.left = left\n",
    "        self.right = right\n",
    "    \n",
    "from typing import Optional\n",
    "\n",
    "depth = 0\n",
    "re = 0\n",
    "class Solution:\n",
    "    def maxDepth(self, root: Optional[TreeNode]) -> int:\n",
    "        def traverse(root: Optional[TreeNode]):\n",
    "            global depth, re\n",
    "            if root is None:\n",
    "                return\n",
    "            depth+=1\n",
    "            if root.left is None and root.right is None:\n",
    "                re = max(depth, re)\n",
    "            traverse(root.left)\n",
    "            traverse(root.right)\n",
    "            depth-=1\n",
    "        traverse(root)\n",
    "        return re\n",
    "\n",
    "\"[3,9,20,null,null,15,7]\"\n",
    "tree = TreeNode(3, TreeNode(9), TreeNode(20, TreeNode(15), TreeNode(7)))\n",
    "print(Solution().maxDepth(tree))"
   ]
  },
  {
   "cell_type": "code",
   "execution_count": null,
   "metadata": {},
   "outputs": [],
   "source": []
  }
 ],
 "metadata": {
  "kernelspec": {
   "display_name": "pytorch",
   "language": "python",
   "name": "python3"
  },
  "language_info": {
   "codemirror_mode": {
    "name": "ipython",
    "version": 3
   },
   "file_extension": ".py",
   "mimetype": "text/x-python",
   "name": "python",
   "nbconvert_exporter": "python",
   "pygments_lexer": "ipython3",
   "version": "3.9.12"
  }
 },
 "nbformat": 4,
 "nbformat_minor": 2
}
