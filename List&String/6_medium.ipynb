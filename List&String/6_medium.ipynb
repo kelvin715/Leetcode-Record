{
 "cells": [
  {
   "cell_type": "markdown",
   "metadata": {},
   "source": [
    "6. Z 字形变换\n",
    "已解答\n",
    "中等\n",
    "相关标签\n",
    "相关企业\n",
    "将一个给定字符串 s 根据给定的行数 numRows ，以从上往下、从左到右进行 Z 字形排列。\n",
    "\n",
    "比如输入字符串为 \"PAYPALISHIRING\" 行数为 3 时，排列如下：\n",
    "\n",
    "P   A   H   N\n",
    "A P L S I I G\n",
    "Y   I   R\n",
    "之后，你的输出需要从左往右逐行读取，产生出一个新的字符串，比如：\"PAHNAPLSIIGYIR\"。\n",
    "\n",
    "请你实现这个将字符串进行指定行数变换的函数：\n",
    "\n",
    "string convert(string s, int numRows);\n",
    " \n",
    "\n",
    "示例 1：\n",
    "\n",
    "输入：s = \"PAYPALISHIRING\", numRows = 3\n",
    "输出：\"PAHNAPLSIIGYIR\"\n",
    "示例 2：\n",
    "输入：s = \"PAYPALISHIRING\", numRows = 4\n",
    "输出：\"PINALSIGYAHRPI\"\n",
    "解释：\n",
    "P     I    N\n",
    "A   L S  I G\n",
    "Y A   H R\n",
    "P     I\n",
    "示例 3：\n",
    "\n",
    "输入：s = \"A\", numRows = 1\n",
    "输出：\"A\"\n",
    " \n",
    "\n",
    "提示：\n",
    "\n",
    "1 <= s.length <= 1000\n",
    "s 由英文字母（小写和大写）、',' 和 '.' 组成\n",
    "1 <= numRows <= 1000"
   ]
  },
  {
   "cell_type": "code",
   "execution_count": 9,
   "metadata": {},
   "outputs": [
    {
     "name": "stdout",
     "output_type": "stream",
     "text": [
      "A\n"
     ]
    }
   ],
   "source": [
    "class Solution:\n",
    "    def convert(self, s: str, numRows: int) -> str:\n",
    "        re = \"\"\n",
    "        for i in range(min(numRows, len(s))):\n",
    "            gap_1 = (numRows - i - 1) * 2  # [i, n-1, j] (i+i+2*gap)/2= n-1  2*gap = 2(n-1)-2i\n",
    "            gap_2 = i * 2\n",
    "            gap = [gap_1, gap_2]\n",
    "            if gap_1 == 0 and gap_2 == 0:\n",
    "                return s\n",
    "            j = 0\n",
    "            index = i + gap[j] #next index\n",
    "            re+=s[i]\n",
    "            while index < len(s):\n",
    "                if gap[j] != 0: \n",
    "                    re += s[index]\n",
    "                j = (j + 1) %  2\n",
    "                index += gap[j]\n",
    "        return re\n",
    "solution = Solution()\n",
    "print(solution.convert(\"A\", 2))    "
   ]
  },
  {
   "cell_type": "code",
   "execution_count": 22,
   "metadata": {},
   "outputs": [
    {
     "name": "stdout",
     "output_type": "stream",
     "text": [
      "A\n"
     ]
    }
   ],
   "source": [
    "class Solution:\n",
    "    def convert(self, s: str, numRows: int) -> str:\n",
    "        if numRows < 2:\n",
    "            return s \n",
    "        re=['']*numRows\n",
    "        flag = 1\n",
    "        row = 0\n",
    "        for i in range(len(s)):\n",
    "            re[row] += s[i]\n",
    "            row = row + flag\n",
    "            # only when numrows = 1 can the row be out of [0, numRows - 1]\n",
    "            # if row > numRows - 1:\n",
    "            #     row = numRows - 1\n",
    "            # if row < 0:\n",
    "            #     row = 0\n",
    "            #update row\n",
    "            if row == numRows - 1 or row == 0:\n",
    "                flag = -flag\n",
    "        re = ''.join(re[:numRows])\n",
    "        return re\n",
    "solution = Solution()\n",
    "print(solution.convert(\"A\", 2))"
   ]
  },
  {
   "cell_type": "code",
   "execution_count": null,
   "metadata": {},
   "outputs": [],
   "source": []
  }
 ],
 "metadata": {
  "kernelspec": {
   "display_name": "pytorch",
   "language": "python",
   "name": "python3"
  },
  "language_info": {
   "codemirror_mode": {
    "name": "ipython",
    "version": 3
   },
   "file_extension": ".py",
   "mimetype": "text/x-python",
   "name": "python",
   "nbconvert_exporter": "python",
   "pygments_lexer": "ipython3",
   "version": "3.9.12"
  }
 },
 "nbformat": 4,
 "nbformat_minor": 2
}
