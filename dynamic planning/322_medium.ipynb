{
 "cells": [
  {
   "cell_type": "code",
   "execution_count": 4,
   "metadata": {},
   "outputs": [
    {
     "name": "stdout",
     "output_type": "stream",
     "text": [
      "3\n"
     ]
    }
   ],
   "source": [
    "from typing import List\n",
    "class Solution:\n",
    "    def coinChange(self, coins: List[int], amount: int) -> int: \n",
    "        dp_table = {} #减少重复计算\n",
    "        def dp(coins, amount):\n",
    "            if amount == 0:\n",
    "                return 0\n",
    "            if amount < 0:\n",
    "                return -1\n",
    "            res = float('inf')\n",
    "            for i in coins:\n",
    "                if amount - i  in dp_table:\n",
    "                    subproblem = dp_table[amount-i]\n",
    "                else:\n",
    "                    subproblem = dp(coins, amount - i)\n",
    "                    dp_table[amount-i] = subproblem\n",
    "                if subproblem == -1:\n",
    "                    continue\n",
    "                res = min(res, subproblem + 1)\n",
    "            return res if res != float('inf') else -1\n",
    "        return dp(coins, amount)\n",
    "coins = [5, 2, 1]\n",
    "amount = 11\n",
    "solution = Solution()\n",
    "\n",
    "print(solution.coinChange(coins, amount))"
   ]
  },
  {
   "cell_type": "markdown",
   "metadata": {},
   "source": [
    "自顶向下的解法，同时用dp dict消除重复计算"
   ]
  },
  {
   "cell_type": "code",
   "execution_count": null,
   "metadata": {},
   "outputs": [],
   "source": [
    "class Solution:\n",
    "    def coinChange(self, coins: List[int], amount: int) -> int: \n",
    "        dp = [float('inf')] * (amount + 1)\n",
    "        dp[0] = 0\n",
    "        for i in range(1, amount):\n",
    "            for coin in coins:\n",
    "                if i - coin >= 0:\n",
    "                    dp[i] = min(dp[i], dp[i-coin]+1)\n",
    "        if dp[amount] == float('inf'):\n",
    "            return -1\n",
    "        else:\n",
    "            return dp[amount]   "
   ]
  },
  {
   "cell_type": "markdown",
   "metadata": {},
   "source": [
    "还可以使用迭代dp数组的自底向上解法\n",
    "dp[i] = min(dp[i], dp[i-coin])"
   ]
  },
  {
   "cell_type": "code",
   "execution_count": null,
   "metadata": {},
   "outputs": [],
   "source": []
  }
 ],
 "metadata": {
  "kernelspec": {
   "display_name": "pytorch",
   "language": "python",
   "name": "python3"
  },
  "language_info": {
   "codemirror_mode": {
    "name": "ipython",
    "version": 3
   },
   "file_extension": ".py",
   "mimetype": "text/x-python",
   "name": "python",
   "nbconvert_exporter": "python",
   "pygments_lexer": "ipython3",
   "version": "3.9.12"
  }
 },
 "nbformat": 4,
 "nbformat_minor": 2
}
