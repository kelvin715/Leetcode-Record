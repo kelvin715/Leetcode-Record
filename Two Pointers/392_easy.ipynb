{
 "cells": [
  {
   "cell_type": "markdown",
   "metadata": {},
   "source": [
    "模式识别问题\n",
    "\n",
    "1. Nave算法\n",
    "2. KMP算法\n",
    "3. D算法\n",
    " "
   ]
  },
  {
   "cell_type": "markdown",
   "metadata": {},
   "source": [
    "392. 判断子序列\n",
    "已解答\n",
    "简单\n",
    "相关标签\n",
    "相关企业\n",
    "给定字符串 s 和 t ，判断 s 是否为 t 的子序列。\n",
    "\n",
    "字符串的一个子序列是原始字符串删除一些（也可以不删除）字符而不改变剩余字符相对位置形成的新字符串。（例如，\"ace\"是\"abcde\"的一个子序列，而\"aec\"不是）。\n",
    "\n",
    "进阶：\n",
    "\n",
    "如果有大量输入的 S，称作 S1, S2, ... , Sk 其中 k >= 10亿，你需要依次检查它们是否为 T 的子序列。在这种情况下，你会怎样改变代码？\n",
    "\n",
    "致谢：\n",
    "\n",
    "特别感谢 @pbrother 添加此问题并且创建所有测试用例。\n",
    "\n",
    " \n",
    "\n",
    "示例 1：\n",
    "\n",
    "输入：s = \"abc\", t = \"ahbgdc\"\n",
    "输出：true\n",
    "示例 2：\n",
    "\n",
    "输入：s = \"axc\", t = \"ahbgdc\"\n",
    "输出：false\n",
    " \n",
    "\n",
    "提示：\n",
    "\n",
    "0 <= s.length <= 100\n",
    "0 <= t.length <= 10^4\n",
    "两个字符串都只由小写字符组成。"
   ]
  },
  {
   "cell_type": "code",
   "execution_count": null,
   "metadata": {},
   "outputs": [],
   "source": [
    "class Solution:\n",
    "    def isSubsequence(self, s: str, t: str) -> bool:\n",
    "        a = 0\n",
    "        b = 0\n",
    "        while a < len(s) and b < len(t):\n",
    "            if s[a] == t[b]:\n",
    "                a+=1\n",
    "                b+=1\n",
    "            else:\n",
    "                b+=1\n",
    "        \n",
    "        if a >= len(s):\n",
    "            return True\n",
    "        return False\n",
    "        "
   ]
  },
  {
   "cell_type": "markdown",
   "metadata": {},
   "source": [
    "进阶：\n",
    "\n",
    "如果有大量输入的 S，称作 S1, S2, ... , Sk 其中 k >= 10亿，你需要依次检查它们是否为 T 的子序列。在这种情况下，你会怎样改变代码？"
   ]
  },
  {
   "cell_type": "markdown",
   "metadata": {},
   "source": [
    "对S进行排序，"
   ]
  },
  {
   "cell_type": "code",
   "execution_count": 8,
   "metadata": {},
   "outputs": [
    {
     "name": "stdout",
     "output_type": "stream",
     "text": [
      "10\n"
     ]
    },
    {
     "data": {
      "text/plain": [
       "'test example \\n5\\n48 52 25 19 92\\n1 2\\n1 3\\n3 4\\n4 5\\n'"
      ]
     },
     "execution_count": 8,
     "metadata": {},
     "output_type": "execute_result"
    }
   ],
   "source": [
    "from re import S\n",
    "from math import sqrt\n",
    "import sys\n",
    "n = int(input())\n",
    "weight = list(map(int, input().split()))\n",
    "graph = [[0]*n]*n\n",
    "status = [0]*n\n",
    "for i in range(n-1):\n",
    "    line = input()\n",
    "    a, b = list(map(int, line.split()))\n",
    "    graph[a-1][b-1] = graph[b-1][a-1] = 1\n",
    "\n",
    "count = 0\n",
    "for start in range(n):\n",
    "    for end in range(n):\n",
    "        if graph[start][end] == 1 and status[start] == 0 and status[end] == 0:\n",
    "            if int(sqrt(weight[start] * weight[end])) == sqrt(weight[start] * weight[end]):\n",
    "                count += 2\n",
    "                status[start] = status[end] = 1\n",
    "print(count)\n",
    "'''test example \n",
    "5\n",
    "48 52 25 19 92\n",
    "1 2\n",
    "1 3\n",
    "3 4\n",
    "4 5\n",
    "'''"
   ]
  },
  {
   "cell_type": "code",
   "execution_count": null,
   "metadata": {},
   "outputs": [],
   "source": []
  }
 ],
 "metadata": {
  "kernelspec": {
   "display_name": "pytorch",
   "language": "python",
   "name": "python3"
  },
  "language_info": {
   "codemirror_mode": {
    "name": "ipython",
    "version": 3
   },
   "file_extension": ".py",
   "mimetype": "text/x-python",
   "name": "python",
   "nbconvert_exporter": "python",
   "pygments_lexer": "ipython3",
   "version": "3.9.12"
  }
 },
 "nbformat": 4,
 "nbformat_minor": 2
}
