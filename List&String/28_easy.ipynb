{
 "cells": [
  {
   "cell_type": "markdown",
   "metadata": {},
   "source": [
    "28. 找出字符串中第一个匹配项的下标\n",
    "简单\n",
    "相关标签\n",
    "相关企业\n",
    "给你两个字符串 haystack 和 needle ，请你在 haystack 字符串中找出 needle 字符串的第一个匹配项的下标（下标从 0 开始）。如果 needle 不是 haystack 的一部分，则返回  -1 。\n",
    "\n",
    " \n",
    "\n",
    "示例 1：\n",
    "\n",
    "输入：haystack = \"sadbutsad\", needle = \"sad\"\n",
    "输出：0\n",
    "解释：\"sad\" 在下标 0 和 6 处匹配。\n",
    "第一个匹配项的下标是 0 ，所以返回 0 。\n",
    "示例 2：\n",
    "\n",
    "输入：haystack = \"leetcode\", needle = \"leeto\"\n",
    "输出：-1\n",
    "解释：\"leeto\" 没有在 \"leetcode\" 中出现，所以返回 -1 。\n",
    " \n",
    "\n",
    "提示：\n",
    "\n",
    "1 <= haystack.length, needle.length <= 104\n",
    "haystack 和 needle 仅由小写英文字符组成"
   ]
  },
  {
   "cell_type": "markdown",
   "metadata": {},
   "source": [
    "双指针问题"
   ]
  },
  {
   "cell_type": "code",
   "execution_count": 4,
   "metadata": {},
   "outputs": [
    {
     "data": {
      "text/plain": [
       "-1"
      ]
     },
     "execution_count": 4,
     "metadata": {},
     "output_type": "execute_result"
    }
   ],
   "source": [
    "class Solution:\n",
    "    def strStr(self, haystack: str, needle: str) -> int:\n",
    "        a=0\n",
    "        b=0\n",
    "        while a < len(haystack):\n",
    "            h=a\n",
    "            b=0\n",
    "            while h < len(haystack) and b < len(needle):\n",
    "                if haystack[h] == needle[b]:\n",
    "                    h+=1\n",
    "                    b+=1\n",
    "                else:\n",
    "                    break\n",
    "            if b == len(needle):\n",
    "                return a\n",
    "            a+=1\n",
    "        return -1\n",
    " \n",
    "solution = Solution()\n",
    "solution.strStr(\"sadbutsad\", \"sas\")         \n",
    "                \n",
    "            "
   ]
  },
  {
   "cell_type": "code",
   "execution_count": null,
   "metadata": {},
   "outputs": [],
   "source": []
  }
 ],
 "metadata": {
  "kernelspec": {
   "display_name": "pytorch",
   "language": "python",
   "name": "python3"
  },
  "language_info": {
   "codemirror_mode": {
    "name": "ipython",
    "version": 3
   },
   "file_extension": ".py",
   "mimetype": "text/x-python",
   "name": "python",
   "nbconvert_exporter": "python",
   "pygments_lexer": "ipython3",
   "version": "3.9.12"
  }
 },
 "nbformat": 4,
 "nbformat_minor": 2
}
