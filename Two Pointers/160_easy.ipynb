{
 "cells": [
  {
   "cell_type": "markdown",
   "metadata": {},
   "source": [
    "160. 相交链表\n",
    "已解答\n",
    "简单\n",
    "相关标签\n",
    "相关企业\n",
    "给你两个单链表的头节点 headA 和 headB ，请你找出并返回两个单链表相交的起始节点。如果两个链表不存在相交节点，返回 null 。\n",
    "\n",
    "图示两个链表在节点 c1 开始相交：\n",
    "\n",
    "\n",
    "\n",
    "题目数据 保证 整个链式结构中不存在环。\n",
    "\n",
    "注意，函数返回结果后，链表必须 保持其原始结构 。\n",
    "\n",
    "自定义评测：\n",
    "\n",
    "评测系统 的输入如下（你设计的程序 不适用 此输入）：\n",
    "\n",
    "![](https://assets.leetcode-cn.com/aliyun-lc-upload/uploads/2018/12/14/160_statement.png)"
   ]
  },
  {
   "cell_type": "code",
   "execution_count": 2,
   "metadata": {},
   "outputs": [],
   "source": [
    "# Definition for singly-linked list.\n",
    "class ListNode:\n",
    "    def __init__(self, x):\n",
    "        self.val = x\n",
    "        self.next = None\n",
    "\n",
    "from typing import Optional\n",
    "class Solution:\n",
    "    def getIntersectionNode(self, headA: ListNode, headB: ListNode) -> Optional[ListNode]:\n",
    "        q=headA\n",
    "        p=headB\n",
    "        flag_a=0\n",
    "        flag_b=0\n",
    "        while p and q: #p和q长度相等\n",
    "            if p==q:\n",
    "                return p\n",
    "            q=q.next\n",
    "            p=p.next\n",
    "            if q is None and flag_a==0: #不判断会无线循环下去，只需要“连接”一次\n",
    "                q = headB\n",
    "                flag_a=1\n",
    "            if p is None and flag_b==0:\n",
    "                p = headA\n",
    "                flag_b=1\n",
    "            \n",
    "        return      "
   ]
  },
  {
   "cell_type": "markdown",
   "metadata": {},
   "source": [
    "切入点是如何使两个指针同时到达交叉点，拼接大法好"
   ]
  },
  {
   "cell_type": "markdown",
   "metadata": {},
   "source": []
  }
 ],
 "metadata": {
  "kernelspec": {
   "display_name": "pytorch",
   "language": "python",
   "name": "python3"
  },
  "language_info": {
   "codemirror_mode": {
    "name": "ipython",
    "version": 3
   },
   "file_extension": ".py",
   "mimetype": "text/x-python",
   "name": "python",
   "nbconvert_exporter": "python",
   "pygments_lexer": "ipython3",
   "version": "3.9.12"
  }
 },
 "nbformat": 4,
 "nbformat_minor": 2
}
