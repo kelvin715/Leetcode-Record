{
 "cells": [
  {
   "cell_type": "code",
   "execution_count": null,
   "metadata": {},
   "outputs": [],
   "source": [
    "# Definition for singly-linked list.\n",
    "class ListNode:\n",
    "    def __init__(self, val=0, next=None):\n",
    "        self.val = val\n",
    "        self.next = next\n",
    "from typing import List, Optional\n",
    "import heapq\n",
    "ListNode.__lt__= lambda self, other: self.val < other.val\n",
    "\n",
    "class Solution:\n",
    "    def mergeKLists(self, lists: List[Optional[ListNode]]) -> Optional[ListNode]:\n",
    "        #不应该把所有node单独放到queue，只需要把整条链放进去即可\n",
    "        pq = []\n",
    "        for head in lists:\n",
    "            if head:\n",
    "                heapq.heappush(pq, (head.val, head))\n",
    "        \n",
    "        dummy = ListNode()\n",
    "        p = dummy\n",
    "        while pq:\n",
    "            val, node = heapq.heappop(pq)\n",
    "            dummy.next = node\n",
    "            dummy = dummy.next\n",
    "            if node.next:\n",
    "                heapq.heappush(pq, (node.next.val, node.next))\n",
    "\n",
    "        return p.next\n",
    "                \n",
    "        "
   ]
  }
 ],
 "metadata": {
  "kernelspec": {
   "display_name": "pytorch",
   "language": "python",
   "name": "python3"
  },
  "language_info": {
   "name": "python",
   "version": "3.9.12"
  }
 },
 "nbformat": 4,
 "nbformat_minor": 2
}
