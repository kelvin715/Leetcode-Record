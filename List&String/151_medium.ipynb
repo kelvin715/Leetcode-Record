{
 "cells": [
  {
   "cell_type": "markdown",
   "metadata": {},
   "source": [
    "151. 反转字符串中的单词\n",
    "中等\n",
    "相关标签\n",
    "相关企业\n",
    "给你一个字符串 s ，请你反转字符串中 单词 的顺序。\n",
    "\n",
    "单词 是由非空格字符组成的字符串。s 中使用至少一个空格将字符串中的 单词 分隔开。\n",
    "\n",
    "返回 单词 顺序颠倒且 单词 之间用单个空格连接的结果字符串。\n",
    "\n",
    "注意：输入字符串 s中可能会存在前导空格、尾随空格或者单词间的多个空格。返回的结果字符串中，单词间应当仅用单个空格分隔，且不包含任何额外的空格。\n",
    "\n",
    " \n",
    "\n",
    "示例 1：\n",
    "\n",
    "输入：s = \"the sky is blue\"\n",
    "输出：\"blue is sky the\"\n",
    "示例 2：\n",
    "\n",
    "输入：s = \"  hello world  \"\n",
    "输出：\"world hello\"\n",
    "解释：反转后的字符串中不能存在前导空格和尾随空格。\n",
    "示例 3：\n",
    "\n",
    "输入：s = \"a good   example\"\n",
    "输出：\"example good a\"\n",
    "解释：如果两个单词间有多余的空格，反转后的字符串需要将单词间的空格减少到仅有一个。\n",
    " \n",
    "\n",
    "提示：\n",
    "\n",
    "1 <= s.length <= 104\n",
    "s 包含英文大小写字母、数字和空格 ' '\n",
    "s 中 至少存在一个 单词\n",
    " \n",
    "\n",
    "进阶：如果字符串在你使用的编程语言中是一种可变数据类型，请尝试使用 O(1) 额外空间复杂度的 原地 解法。"
   ]
  },
  {
   "cell_type": "code",
   "execution_count": 8,
   "metadata": {},
   "outputs": [
    {
     "data": {
      "text/plain": [
       "'world hello'"
      ]
     },
     "execution_count": 8,
     "metadata": {},
     "output_type": "execute_result"
    }
   ],
   "source": [
    "class Solution:\n",
    "    def reverseWords(self, s: str) -> str:\n",
    "        str_list = s.split()\n",
    "        str_list.reverse()\n",
    "        return ' '.join(str_list)\n",
    "solution = Solution()\n",
    "solution.reverseWords(\"  hello world  \")"
   ]
  },
  {
   "cell_type": "markdown",
   "metadata": {},
   "source": [
    "split(\" \")和split()不同\n",
    "split()将多个空格当成一个空格\n",
    "split(\" \")将每一个空格作为分隔符，两个连续空格之间为空，所以空字符串会添加到结果里"
   ]
  },
  {
   "cell_type": "code",
   "execution_count": 17,
   "metadata": {},
   "outputs": [
    {
     "data": {
      "text/plain": [
       "['', '1', '1', '', '']"
      ]
     },
     "execution_count": 17,
     "metadata": {},
     "output_type": "execute_result"
    }
   ],
   "source": [
    "\" 1 1  \".split(' ')"
   ]
  },
  {
   "cell_type": "code",
   "execution_count": 27,
   "metadata": {},
   "outputs": [
    {
     "data": {
      "text/plain": [
       "'world hello'"
      ]
     },
     "execution_count": 27,
     "metadata": {},
     "output_type": "execute_result"
    }
   ],
   "source": [
    "class Solution:\n",
    "    def reverseWords(self, s: str) -> str:\n",
    "        re=\"\"\n",
    "        i = 0\n",
    "        while i < len(s):\n",
    "            while i < len(s) and s[i] == ' ':\n",
    "                i+=1\n",
    "            # 此时s[i]为一个单词的开头或者结尾\n",
    "            word=\"\"\n",
    "            while i < len(s) and s[i] != ' ':\n",
    "                word+=s[i]\n",
    "                i+=1\n",
    "            #此时s[i]为空或者结尾\n",
    "            if word!=\"\" and re!=\"\":\n",
    "                re = word + ' ' + re\n",
    "            else:\n",
    "                re = word+re\n",
    "        \n",
    "        return re        \n",
    "solution = Solution()\n",
    "solution.reverseWords(\"  hello world  \")"
   ]
  },
  {
   "cell_type": "code",
   "execution_count": 23,
   "metadata": {},
   "outputs": [
    {
     "data": {
      "text/plain": [
       "''"
      ]
     },
     "execution_count": 23,
     "metadata": {},
     "output_type": "execute_result"
    }
   ],
   "source": [
    "\"\"+\"\""
   ]
  },
  {
   "cell_type": "code",
   "execution_count": null,
   "metadata": {},
   "outputs": [],
   "source": []
  }
 ],
 "metadata": {
  "kernelspec": {
   "display_name": "pytorch",
   "language": "python",
   "name": "python3"
  },
  "language_info": {
   "codemirror_mode": {
    "name": "ipython",
    "version": 3
   },
   "file_extension": ".py",
   "mimetype": "text/x-python",
   "name": "python",
   "nbconvert_exporter": "python",
   "pygments_lexer": "ipython3",
   "version": "3.9.12"
  }
 },
 "nbformat": 4,
 "nbformat_minor": 2
}
