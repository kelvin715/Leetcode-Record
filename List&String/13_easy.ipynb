{
 "cells": [
  {
   "cell_type": "markdown",
   "metadata": {},
   "source": [
    "罗马数字包含以下七种字符: I， V， X， L，C，D 和 M。\n",
    "\n",
    "字符          数值\n",
    "I             1\n",
    "V             5\n",
    "X             10\n",
    "L             50\n",
    "C             100\n",
    "D             500\n",
    "M             1000\n",
    "例如， 罗马数字 2 写做 II ，即为两个并列的 1 。12 写做 XII ，即为 X + II 。 27 写做  XXVII, 即为 XX + V + II 。\n",
    "\n",
    "通常情况下，罗马数字中小的数字在大的数字的右边。但也存在特例，例如 4 不写做 IIII，而是 IV。数字 1 在数字 5 的左边，所表示的数等于大数 5 减小数 1 得到的数值 4 。同样地，数字 9 表示为 IX。这个特殊的规则只适用于以下六种情况：\n",
    "\n",
    "I 可以放在 V (5) 和 X (10) 的左边，来表示 4 和 9。\n",
    "X 可以放在 L (50) 和 C (100) 的左边，来表示 40 和 90。 \n",
    "C 可以放在 D (500) 和 M (1000) 的左边，来表示 400 和 900。\n",
    "给定一个罗马数字，将其转换成整数。\n",
    "\n",
    " \n",
    "\n",
    "示例 1:\n",
    "\n",
    "输入: s = \"III\"\n",
    "输出: 3\n",
    "示例 2:\n",
    "\n",
    "输入: s = \"IV\"\n",
    "输出: 4\n",
    "示例 3:\n",
    "\n",
    "输入: s = \"IX\"\n",
    "输出: 9\n",
    "示例 4:\n",
    "\n",
    "输入: s = \"LVIII\"\n",
    "输出: 58\n",
    "解释: L = 50, V= 5, III = 3.\n",
    "示例 5:\n",
    "\n",
    "输入: s = \"MCMXCIV\"\n",
    "输出: 1994\n",
    "解释: M = 1000, CM = 900, XC = 90, IV = 4.\n",
    " \n",
    "\n",
    "提示：\n",
    "\n",
    "1 <= s.length <= 15\n",
    "s 仅含字符 ('I', 'V', 'X', 'L', 'C', 'D', 'M')\n",
    "题目数据保证 s 是一个有效的罗马数字，且表示整数在范围 [1, 3999] 内\n",
    "题目所给测试用例皆符合罗马数字书写规则，不会出现跨位等情况。\n",
    "IL 和 IM 这样的例子并不符合题目要求，49 应该写作 XLIX，999 应该写作 CMXCIX 。\n",
    "关于罗马数字的详尽书写规则，可以参考 罗马数字 - Mathematics 。"
   ]
  },
  {
   "cell_type": "code",
   "execution_count": 2,
   "metadata": {},
   "outputs": [
    {
     "data": {
      "text/plain": [
       "1994"
      ]
     },
     "execution_count": 2,
     "metadata": {},
     "output_type": "execute_result"
    }
   ],
   "source": [
    "class Solution:\n",
    "    def romanToInt(self, s: str) -> int:\n",
    "        dictionary = {\"I\": 1, \"V\": 5, \"X\": 10, \"L\": 50, \"C\": 100, \"D\": 500, \"M\": 1000, \"IV\": 4, \"IX\": 9, \"XL\": 40, \"XC\": 90, \"CD\": 400, \"CM\": 900}\n",
    "        sum = 0\n",
    "        i = 0\n",
    "        while i < len(s):\n",
    "            if i+1 < len(s) and s[i:i+2] in dictionary:\n",
    "                sum += dictionary[s[i:i+2]]\n",
    "                i += 2\n",
    "            else:\n",
    "                sum += dictionary[s[i]]\n",
    "                i += 1\n",
    "        return sum\n",
    "solution = Solution()\n",
    "solution.romanToInt(\"III\")\n",
    "solution.romanToInt(\"IV\")\n",
    "solution.romanToInt(\"IX\")\n",
    "solution.romanToInt(\"LVIII\")\n",
    "solution.romanToInt(\"MCMXCIV\")"
   ]
  },
  {
   "cell_type": "markdown",
   "metadata": {},
   "source": [
    "给你一个整数，将其转为罗马数字。"
   ]
  },
  {
   "cell_type": "code",
   "execution_count": 9,
   "metadata": {},
   "outputs": [
    {
     "data": {
      "text/plain": [
       "'MCMXCIV'"
      ]
     },
     "execution_count": 9,
     "metadata": {},
     "output_type": "execute_result"
    }
   ],
   "source": [
    "class Solution:\n",
    "    def intToRoman(self, num: int) -> str:\n",
    "        dictionary = {1: \"I\", 4: \"IV\", 5: \"V\", 9: \"IX\", 10: \"X\", 40: \"XL\", 50: \"L\", 90: \"XC\", 100: \"C\", 400: \"CD\", 500: \"D\", 900: \"CM\", 1000: \"M\"}\n",
    "        keys = list(dictionary.keys())\n",
    "        keys.sort(reverse=True)\n",
    "        re=\"\"\n",
    "        i=0\n",
    "        while i < len(keys):\n",
    "            key = keys[i]\n",
    "            count = num // key\n",
    "            re += dictionary[key] * count\n",
    "            i += 1\n",
    "            num = num % key\n",
    "            if num == 0:\n",
    "                break\n",
    "        return re\n",
    "\n",
    "solution = Solution()\n",
    "solution.intToRoman(1994)"
   ]
  },
  {
   "cell_type": "code",
   "execution_count": null,
   "metadata": {},
   "outputs": [],
   "source": []
  }
 ],
 "metadata": {
  "kernelspec": {
   "display_name": "pytorch",
   "language": "python",
   "name": "python3"
  },
  "language_info": {
   "codemirror_mode": {
    "name": "ipython",
    "version": 3
   },
   "file_extension": ".py",
   "mimetype": "text/x-python",
   "name": "python",
   "nbconvert_exporter": "python",
   "pygments_lexer": "ipython3",
   "version": "3.9.12"
  }
 },
 "nbformat": 4,
 "nbformat_minor": 2
}
